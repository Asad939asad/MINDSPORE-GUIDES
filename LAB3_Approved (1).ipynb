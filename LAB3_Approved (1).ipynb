{
  "nbformat": 4,
  "nbformat_minor": 0,
  "metadata": {
    "colab": {
      "provenance": []
    },
    "kernelspec": {
      "name": "python3",
      "display_name": "Python 3"
    },
    "language_info": {
      "name": "python"
    }
  },
  "cells": [
    {
      "cell_type": "code",
      "source": [
        "# Import MindSpore.\n",
        "import mindspore\n",
        "# The cell outputs multiple lines at the same time.\n",
        "from IPython.core.interactiveshell import InteractiveShell\n",
        "InteractiveShell.ast_node_interactivity = \"all\"\n",
        "import numpy as np\n",
        "from mindspore import Tensor\n",
        "from mindspore import dtype\n",
        "# Use an array to create a tensor.\n",
        "x = Tensor(10, dtype.int32)\n",
        "print(f\"x : {x} shape is {x.shape} dimension is {x.dim}\\n\")\n",
        "\n",
        "x = Tensor(np.array([1,2,3,4,5]), dtype.int32)\n",
        "print(f\"x : {x} shape is {x.shape} dimension is {x.dim}\\n\")\n",
        "\n",
        "x = Tensor(np.array([[1,2,3],[4,5,6],[7,8,9]]), dtype.int32)\n",
        "print(f\"x : {x} shape is {x.shape} dimension is {x.dim}\\n\")\n",
        "\n",
        "x = Tensor(np.array([0.1,0.2,0.3]), dtype.float32)\n",
        "print(f\"x : {x} shape is {x.shape} dimension is {x.dim}\\n\")\n"
      ],
      "metadata": {
        "colab": {
          "base_uri": "https://localhost:8080/"
        },
        "id": "HFITlIlSSIcd",
        "outputId": "237681d3-259a-46fd-bdda-610c4727da75"
      },
      "execution_count": null,
      "outputs": [
        {
          "output_type": "stream",
          "name": "stdout",
          "text": [
            "x : 10 shape is () dimension is <bound method PyCapsule.dim of Tensor(shape=[], dtype=Int32, value= 10)>\n",
            "\n",
            "x : [1 2 3 4 5] shape is (5,) dimension is <bound method PyCapsule.dim of Tensor(shape=[5], dtype=Int32, value= [1, 2, 3, 4, 5])>\n",
            "\n",
            "x : [[1 2 3]\n",
            " [4 5 6]\n",
            " [7 8 9]] shape is (3, 3) dimension is <bound method PyCapsule.dim of Tensor(shape=[3, 3], dtype=Int32, value=\n",
            "[[1, 2, 3],\n",
            " [4, 5, 6],\n",
            " [7, 8, 9]])>\n",
            "\n",
            "x : [0.1 0.2 0.3] shape is (3,) dimension is <bound method PyCapsule.data_sync of Tensor(shape=[3], dtype=Float32, value= [ 1.00000001e-01,  2.00000003e-01,  3.00000012e-01])>\n",
            "\n"
          ]
        }
      ]
    },
    {
      "cell_type": "code",
      "source": [
        "# Import MindSpore.\n",
        "import mindspore\n",
        "# The cell outputs multiple lines at the same time.\n",
        "from IPython.core.interactiveshell import InteractiveShell\n",
        "InteractiveShell.ast_node_interactivity = \"all\"\n",
        "import numpy as np\n",
        "from mindspore import Tensor\n",
        "from mindspore import dtype\n",
        "# Use an array to create a tensor.\n",
        "x = Tensor(10, dtype.int32)\n",
        "print(f\"x : {x} shape is {x.shape} dimension is {x.dim}\\n\")\n",
        "\n",
        "x = Tensor(np.array([1,2,3,4,5]), dtype.int32)\n",
        "print(f\"x : {x} shape is {x.shape} dimension is {x.dim}\\n\")\n",
        "\n",
        "x = Tensor(np.array([[1,2,3],[4,5,6],[7,8,9]]), dtype.int32)\n",
        "print(f\"x : {x} shape is {x.shape} dimension is {x.dim}\\n\")\n",
        "\n",
        "x = Tensor(np.array([0,0.2,0.3]), dtype.bool_)\n",
        "print(f\"x : {x} shape is {x.shape} dimension is {x.dim}\\n\")\n"
      ],
      "metadata": {
        "colab": {
          "base_uri": "https://localhost:8080/"
        },
        "id": "c-_G06qQXfSo",
        "outputId": "aa7ef632-eccb-4a7f-a90c-f907d9ac0280"
      },
      "execution_count": null,
      "outputs": [
        {
          "output_type": "stream",
          "name": "stdout",
          "text": [
            "x : 10 shape is () dimension is <bound method PyCapsule.dim of Tensor(shape=[], dtype=Int32, value= 10)>\n",
            "\n",
            "x : [1 2 3 4 5] shape is (5,) dimension is <bound method PyCapsule.dim of Tensor(shape=[5], dtype=Int32, value= [1, 2, 3, 4, 5])>\n",
            "\n",
            "x : [[1 2 3]\n",
            " [4 5 6]\n",
            " [7 8 9]] shape is (3, 3) dimension is <bound method PyCapsule.dim of Tensor(shape=[3, 3], dtype=Int32, value=\n",
            "[[1, 2, 3],\n",
            " [4, 5, 6],\n",
            " [7, 8, 9]])>\n",
            "\n",
            "x : [False  True  True] shape is (3,) dimension is <bound method PyCapsule.dim of Tensor(shape=[3], dtype=Bool, value= [False,  True,  True])>\n",
            "\n"
          ]
        }
      ]
    },
    {
      "cell_type": "code",
      "source": [
        "# Import MindSpore.\n",
        "import mindspore\n",
        "# The cell outputs multiple lines at the same time.\n",
        "from IPython.core.interactiveshell import InteractiveShell\n",
        "InteractiveShell.ast_node_interactivity = \"all\"\n",
        "import numpy as np\n",
        "from mindspore import Tensor\n",
        "from mindspore import dtype\n",
        "# Use an array to create a tensor.\n",
        "x = Tensor(np.array([1,2,3]), dtype.int32)\n",
        "print(f\"x : {x} shape is {x.shape} dimension is {x.dim}\\n\")\n",
        "\n",
        "y = Tensor(np.array([4,5,6]), dtype.int32)\n",
        "print(f\"x : {y} shape is {y.shape} dimension is {y.dim}\\n\")\n",
        "\n",
        "print(f\"Addition : {x+y}\")\n",
        "print(f\"Subtraction : {x-y}\")\n",
        "print(f\"Multiplication : {x*y}\")\n",
        "print(f\"Division : {x/y}\")"
      ],
      "metadata": {
        "colab": {
          "base_uri": "https://localhost:8080/"
        },
        "id": "cNtvZ4X8STgJ",
        "outputId": "40811ddf-f7cc-4881-b4f1-671c45acee1c"
      },
      "execution_count": null,
      "outputs": [
        {
          "output_type": "stream",
          "name": "stdout",
          "text": [
            "x : [1 2 3] shape is (3,) dimension is <bound method PyCapsule.dim of Tensor(shape=[3], dtype=Int32, value= [1, 2, 3])>\n",
            "\n",
            "x : [4 5 6] shape is (3,) dimension is <bound method PyCapsule.dim of Tensor(shape=[3], dtype=Int32, value= [4, 5, 6])>\n",
            "\n",
            "Addition : [5 7 9]\n",
            "Subtraction : [-3 -3 -3]\n",
            "Multiplication : [ 4 10 18]\n",
            "Division : [0.25 0.4  0.5 ]\n"
          ]
        }
      ]
    },
    {
      "cell_type": "code",
      "source": [
        "# Import MindSpore.\n",
        "import mindspore\n",
        "# The cell outputs multiple lines at the same time.\n",
        "from IPython.core.interactiveshell import InteractiveShell\n",
        "InteractiveShell.ast_node_interactivity = \"all\"\n",
        "import numpy as np\n",
        "from mindspore import Tensor\n",
        "from mindspore import dtype\n",
        "# Use an array to create a tensor.\n",
        "x = Tensor(np.array([[0,1],[2,3]]), dtype.int32)\n",
        "print(f\"x : {x} shape is {x.shape} dimension is {x.ndim}\\n\")\n",
        "\n",
        "print(f\"Sum : {x.sum()}\")\n",
        "print(f\"Mean : {x.mean()}\")\n",
        "print(f\"Maximum : {x.max()}\")\n",
        "print(f\"Minimum : {x.min()}\")"
      ],
      "metadata": {
        "colab": {
          "base_uri": "https://localhost:8080/"
        },
        "id": "icYVLfP8TBMN",
        "outputId": "d442b624-7a87-4b6f-e5cf-e6a6800c3f66"
      },
      "execution_count": null,
      "outputs": [
        {
          "output_type": "stream",
          "name": "stdout",
          "text": [
            "x : [[0 1]\n",
            " [2 3]] shape is (2, 2) dimension is 2\n",
            "\n",
            "Sum : 6\n",
            "Mean : 1\n",
            "Maximum : 3\n",
            "Minimum : 0\n"
          ]
        }
      ]
    },
    {
      "cell_type": "code",
      "source": [
        "# Import MindSpore.\n",
        "import mindspore\n",
        "# The cell outputs multiple lines at the same time.\n",
        "from IPython.core.interactiveshell import InteractiveShell\n",
        "InteractiveShell.ast_node_interactivity = \"all\"\n",
        "import numpy as np\n",
        "from mindspore import Tensor\n",
        "from mindspore import dtype\n",
        "# Use an array to create a tensor.\n",
        "x = Tensor(np.array([1,2,3]), dtype.int32)\n",
        "print(f\"x : {x} shape is {x.shape} dimension is {x.dim}\\n\")\n",
        "\n",
        "y = Tensor(np.array([[10,20,30],[40,50,60]]), dtype.int32)\n",
        "print(f\"x : {y} shape is {y.shape} dimension is {y.dim}\\n\")\n",
        "\n",
        "print(f\"Addition : \\n{x+y}\\n\")\n",
        "print(f\"Subtraction : \\n{x-y}\\n\")\n",
        "print(f\"Multiplication : \\n{x*y}\\n\")\n",
        "print(f\"Division : \\n{x/y}\\n\")"
      ],
      "metadata": {
        "colab": {
          "base_uri": "https://localhost:8080/"
        },
        "id": "pRWa5R4iY07z",
        "outputId": "2ab4b3de-f6fa-4b1c-e298-ccdcc8441685"
      },
      "execution_count": null,
      "outputs": [
        {
          "output_type": "stream",
          "name": "stdout",
          "text": [
            "x : [1 2 3] shape is (3,) dimension is <bound method PyCapsule.dim of Tensor(shape=[3], dtype=Int32, value= [1, 2, 3])>\n",
            "\n",
            "x : [[10 20 30]\n",
            " [40 50 60]] shape is (2, 3) dimension is <bound method PyCapsule.dim of Tensor(shape=[2, 3], dtype=Int32, value=\n",
            "[[10, 20, 30],\n",
            " [40, 50, 60]])>\n",
            "\n",
            "Addition : \n",
            "[[11 22 33]\n",
            " [41 52 63]]\n",
            "\n",
            "Subtraction : \n",
            "[[ -9 -18 -27]\n",
            " [-39 -48 -57]]\n",
            "\n",
            "Multiplication : \n",
            "[[ 10  40  90]\n",
            " [ 40 100 180]]\n",
            "\n",
            "Division : \n",
            "[[0.1   0.1   0.1  ]\n",
            " [0.025 0.04  0.05 ]]\n",
            "\n"
          ]
        }
      ]
    },
    {
      "cell_type": "code",
      "source": [
        "import mindspore\n",
        "# The cell outputs multiple lines at the same time.\n",
        "from IPython.core.interactiveshell import InteractiveShell\n",
        "InteractiveShell.ast_node_interactivity = \"all\"\n",
        "import numpy as np\n",
        "from mindspore import Tensor\n",
        "from mindspore import dtype\n",
        "# Use an array to create a tensor.\n",
        "x = Tensor(np.array([[10, 20, 30], [40, 50, 60], [70, 80, 90]] ), dtype.int32)\n",
        "print(f\"x : {x} shape is {x.shape} dimension is {x.dim}\\n\")\n",
        "\n",
        "print(\"First Row: {}\".format(x[1]))\n",
        "print(\"Last Column: {}\".format(x[:,-1]))\n",
        "print(\"(2,1) Column: {}\".format(x[2,1]))\n"
      ],
      "metadata": {
        "colab": {
          "base_uri": "https://localhost:8080/"
        },
        "id": "MP3oGKZAacLr",
        "outputId": "3e0f3c50-e122-417d-f570-dfe231e5ebde"
      },
      "execution_count": null,
      "outputs": [
        {
          "output_type": "stream",
          "name": "stdout",
          "text": [
            "x : [[10 20 30]\n",
            " [40 50 60]\n",
            " [70 80 90]] shape is (3, 3) dimension is <bound method PyCapsule.dim of Tensor(shape=[3, 3], dtype=Int32, value=\n",
            "[[10, 20, 30],\n",
            " [40, 50, 60],\n",
            " [70, 80, 90]])>\n",
            "\n",
            "First Row: [40 50 60]\n",
            "Last Column: [30 60 90]\n",
            "(2,1) Column: 80\n"
          ]
        }
      ]
    },
    {
      "cell_type": "code",
      "source": [
        "from mindspore.ops import operations as ops\n",
        "from mindspore import Tensor, dtype, ops\n",
        "shape = (2, 2)\n",
        "ones = ops.Zeros()\n",
        "output = ones((3,3),dtype.float32)\n",
        "print(output)\n",
        "zeros = ops.Ones()\n",
        "output = zeros((4,2), dtype.float32)\n",
        "print(output)\n",
        "\n",
        "output = ops.fill(dtype.int32, (2, 2), 7)\n",
        "print(output)\n",
        "\n",
        "output = ops.Tensor(np.random.rand(5,5),dtype.float32)\n",
        "print(output)"
      ],
      "metadata": {
        "colab": {
          "base_uri": "https://localhost:8080/"
        },
        "id": "4oBO5hagbCSl",
        "outputId": "898a1b5c-5166-4fba-94ff-260ae02f6841"
      },
      "execution_count": null,
      "outputs": [
        {
          "output_type": "stream",
          "name": "stdout",
          "text": [
            "[[0. 0. 0.]\n",
            " [0. 0. 0.]\n",
            " [0. 0. 0.]]\n",
            "[[1. 1.]\n",
            " [1. 1.]\n",
            " [1. 1.]\n",
            " [1. 1.]]\n",
            "[[7 7]\n",
            " [7 7]]\n",
            "[[0.6630641  0.9021325  0.29700252 0.12216655 0.65850365]\n",
            " [0.20021254 0.51409215 0.02414938 0.23723961 0.9100455 ]\n",
            " [0.3302158  0.8421488  0.9599502  0.3870872  0.08069854]\n",
            " [0.94236016 0.25097018 0.521451   0.31995815 0.40406215]\n",
            " [0.49152374 0.87496996 0.22944373 0.19141199 0.6148443 ]]\n"
          ]
        }
      ]
    },
    {
      "cell_type": "code",
      "source": [],
      "metadata": {
        "id": "1bPPdbTpefQj"
      },
      "execution_count": null,
      "outputs": []
    }
  ]
}