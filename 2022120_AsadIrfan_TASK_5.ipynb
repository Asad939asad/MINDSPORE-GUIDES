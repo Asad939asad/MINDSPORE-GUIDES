{
  "nbformat": 4,
  "nbformat_minor": 0,
  "metadata": {
    "colab": {
      "provenance": [],
      "gpuType": "T4"
    },
    "kernelspec": {
      "name": "python3",
      "display_name": "Python 3"
    },
    "language_info": {
      "name": "python"
    },
    "accelerator": "GPU"
  },
  "cells": [
    {
      "cell_type": "markdown",
      "source": [
        "#Downloading Dependencies"
      ],
      "metadata": {
        "id": "bK3bXju2Fgb1"
      }
    },
    {
      "cell_type": "code",
      "source": [
        "!pip install download mindspore\n",
        "# !pip uninstall mindspore -y\n",
        "!pip install mindspore-gpu"
      ],
      "metadata": {
        "colab": {
          "base_uri": "https://localhost:8080/",
          "height": 586
        },
        "id": "URpi2zigSw1M",
        "outputId": "2cbc6eef-dacb-46dc-b6a4-9538f891b90e"
      },
      "execution_count": null,
      "outputs": [
        {
          "output_type": "stream",
          "name": "stdout",
          "text": [
            "Requirement already satisfied: download in /usr/local/lib/python3.11/dist-packages (0.3.5)\n",
            "Collecting mindspore\n",
            "  Using cached mindspore-2.5.0-cp311-cp311-manylinux1_x86_64.whl.metadata (18 kB)\n",
            "Requirement already satisfied: tqdm in /usr/local/lib/python3.11/dist-packages (from download) (4.67.1)\n",
            "Requirement already satisfied: six in /usr/local/lib/python3.11/dist-packages (from download) (1.17.0)\n",
            "Requirement already satisfied: requests in /usr/local/lib/python3.11/dist-packages (from download) (2.32.3)\n",
            "Requirement already satisfied: numpy<2.0.0,>=1.20.0 in /usr/local/lib/python3.11/dist-packages (from mindspore) (1.26.4)\n",
            "Requirement already satisfied: protobuf>=3.13.0 in /usr/local/lib/python3.11/dist-packages (from mindspore) (4.25.6)\n",
            "Requirement already satisfied: asttokens>=2.0.4 in /usr/local/lib/python3.11/dist-packages (from mindspore) (3.0.0)\n",
            "Requirement already satisfied: pillow>=6.2.0 in /usr/local/lib/python3.11/dist-packages (from mindspore) (11.1.0)\n",
            "Requirement already satisfied: scipy>=1.5.4 in /usr/local/lib/python3.11/dist-packages (from mindspore) (1.13.1)\n",
            "Requirement already satisfied: packaging>=20.0 in /usr/local/lib/python3.11/dist-packages (from mindspore) (24.2)\n",
            "Requirement already satisfied: psutil>=5.6.1 in /usr/local/lib/python3.11/dist-packages (from mindspore) (5.9.5)\n",
            "Requirement already satisfied: astunparse>=1.6.3 in /usr/local/lib/python3.11/dist-packages (from mindspore) (1.6.3)\n",
            "Requirement already satisfied: safetensors>=0.4.0 in /usr/local/lib/python3.11/dist-packages (from mindspore) (0.5.3)\n",
            "Requirement already satisfied: dill>=0.3.7 in /usr/local/lib/python3.11/dist-packages (from mindspore) (0.3.9)\n",
            "Requirement already satisfied: wheel<1.0,>=0.23.0 in /usr/local/lib/python3.11/dist-packages (from astunparse>=1.6.3->mindspore) (0.45.1)\n",
            "Requirement already satisfied: charset-normalizer<4,>=2 in /usr/local/lib/python3.11/dist-packages (from requests->download) (3.4.1)\n",
            "Requirement already satisfied: idna<4,>=2.5 in /usr/local/lib/python3.11/dist-packages (from requests->download) (3.10)\n",
            "Requirement already satisfied: urllib3<3,>=1.21.1 in /usr/local/lib/python3.11/dist-packages (from requests->download) (2.3.0)\n",
            "Requirement already satisfied: certifi>=2017.4.17 in /usr/local/lib/python3.11/dist-packages (from requests->download) (2025.1.31)\n",
            "Using cached mindspore-2.5.0-cp311-cp311-manylinux1_x86_64.whl (962.0 MB)\n",
            "Installing collected packages: mindspore\n",
            "Successfully installed mindspore-2.5.0\n"
          ]
        },
        {
          "output_type": "display_data",
          "data": {
            "application/vnd.colab-display-data+json": {
              "pip_warning": {
                "packages": [
                  "mindspore"
                ]
              },
              "id": "3aae46fa11d8479fab5404b7814f4fe3"
            }
          },
          "metadata": {}
        },
        {
          "output_type": "stream",
          "name": "stdout",
          "text": [
            "\u001b[31mERROR: Could not find a version that satisfies the requirement mindspore-gpu (from versions: none)\u001b[0m\u001b[31m\n",
            "\u001b[0m\u001b[31mERROR: No matching distribution found for mindspore-gpu\u001b[0m\u001b[31m\n",
            "\u001b[0m"
          ]
        }
      ]
    },
    {
      "cell_type": "markdown",
      "source": [
        "#Downloading The Dataset"
      ],
      "metadata": {
        "id": "VcN6VrLNvRGk"
      }
    },
    {
      "cell_type": "code",
      "execution_count": null,
      "metadata": {
        "colab": {
          "base_uri": "https://localhost:8080/",
          "height": 143
        },
        "id": "LMTKknR3Si8c",
        "outputId": "a771d5c5-74fd-4c60-9a80-6d571601ca3d"
      },
      "outputs": [
        {
          "output_type": "stream",
          "name": "stdout",
          "text": [
            "Downloading data from https://mindspore-website.obs.cn-north-4.myhuaweicloud.com/notebook/datasets/cifar-10-binary.tar.gz (162.2 MB)\n",
            "\n",
            "file_sizes: 100%|████████████████████████████| 170M/170M [00:14<00:00, 11.8MB/s]\n",
            "Extracting tar.gz file...\n",
            "Successfully downloaded / unzipped to ./datasets-cifar10-bin\n"
          ]
        },
        {
          "output_type": "execute_result",
          "data": {
            "text/plain": [
              "'./datasets-cifar10-bin'"
            ],
            "application/vnd.google.colaboratory.intrinsic+json": {
              "type": "string"
            }
          },
          "metadata": {},
          "execution_count": 1
        }
      ],
      "source": [
        "from download import download\n",
        "\n",
        "url = \"https://mindspore-website.obs.cn-north-4.myhuaweicloud.com/notebook/datasets/cifar-10-binary.tar.gz\"\n",
        "\n",
        "download(url, \"./datasets-cifar10-bin\", kind=\"tar.gz\", replace=True)\n"
      ]
    },
    {
      "cell_type": "markdown",
      "source": [
        "#Basic Preprocessing and Creating the CIFAR-10 dataset for training and validation using MindSpore."
      ],
      "metadata": {
        "id": "EvsQu2eevdbx"
      }
    },
    {
      "cell_type": "code",
      "source": [
        "import mindspore as ms\n",
        "import mindspore.dataset as ds\n",
        "import mindspore.dataset.vision as vision\n",
        "import mindspore.dataset.transforms as transforms\n",
        "from mindspore import dtype as mstype\n",
        "import os\n",
        "\n",
        "data_dir = \"./datasets-cifar10-bin/cifar-10-batches-bin\"\n",
        "batch_size = 256\n",
        "image_size = 32\n",
        "workers = min(4, os.cpu_count())\n",
        "num_classes = 10\n",
        "def create_dataset_cifar10(dataset_dir, usage, resize, batch_size, workers):\n",
        "\n",
        "    data_set = ds.Cifar10Dataset(dataset_dir=dataset_dir,\n",
        "                                 usage=usage,\n",
        "                                 num_parallel_workers=workers,\n",
        "                                 shuffle=True)\n",
        "\n",
        "    trans = []\n",
        "    if usage == \"train\":\n",
        "        trans += [\n",
        "            vision.RandomCrop((32, 32), (4, 4, 4, 4)),\n",
        "            vision.RandomHorizontalFlip(prob=0.5)\n",
        "        ]\n",
        "\n",
        "    trans += [\n",
        "        vision.Resize(resize),\n",
        "        vision.Rescale(1.0 / 255.0, 0.0),\n",
        "        vision.Normalize([0.4914, 0.4822, 0.4465], [0.2023, 0.1994, 0.2010]),\n",
        "        vision.HWC2CHW()\n",
        "    ]\n",
        "    target_trans = transforms.TypeCast(mstype.int32)\n",
        "    # Data transformation\n",
        "    data_set = data_set.map(operations=trans,\n",
        "                            input_columns='image',\n",
        "                            num_parallel_workers=workers)\n",
        "\n",
        "    data_set = data_set.map(operations=target_trans,\n",
        "                            input_columns='label',\n",
        "                            num_parallel_workers=workers)\n",
        "\n",
        "    # Batching\n",
        "    data_set = data_set.batch(batch_size)\n",
        "\n",
        "    return data_set\n",
        "# Obtain the preprocessed training and testing datasets\n",
        "dataset_train = create_dataset_cifar10(dataset_dir=data_dir,\n",
        "                                       usage=\"train\",\n",
        "                                       resize=image_size,\n",
        "                                       batch_size=batch_size,\n",
        "                                       workers=workers)\n",
        "step_size_train = dataset_train.get_dataset_size()\n",
        "\n",
        "dataset_val = create_dataset_cifar10(dataset_dir=data_dir,\n",
        "                                     usage=\"test\",\n",
        "                                     resize=image_size,\n",
        "                                     batch_size=batch_size,\n",
        "                                     workers=workers)\n",
        "step_size_val = dataset_val.get_dataset_size()\n"
      ],
      "metadata": {
        "id": "LO35zN9yTIKp"
      },
      "execution_count": null,
      "outputs": []
    },
    {
      "cell_type": "markdown",
      "source": [
        "#Visualizing The Dataset"
      ],
      "metadata": {
        "id": "OWGmQf5pvsHR"
      }
    },
    {
      "cell_type": "code",
      "source": [
        "import matplotlib.pyplot as plt\n",
        "import numpy as np\n",
        "\n",
        "data_iter = next(dataset_train.create_dict_iterator())\n",
        "\n",
        "images = data_iter[\"image\"].asnumpy()\n",
        "labels = data_iter[\"label\"].asnumpy()\n",
        "print(f\"Image shape: {images.shape}, Label shape: {labels.shape}\")\n",
        "\n",
        "# The labels for the first six pictures in the training dataset\n",
        "print(f\"Labels: {labels[:6]}\")\n",
        "\n",
        "classes = []\n",
        "\n",
        "with open(data_dir + \"/batches.meta.txt\", \"r\") as f:\n",
        "    for line in f:\n",
        "        line = line.rstrip()\n",
        "        if line:\n",
        "            classes.append(line)\n",
        "\n",
        "# First six pictures in the training dataset\n",
        "plt.figure()\n",
        "for i in range(6):\n",
        "    plt.subplot(2, 3, i + 1)\n",
        "    image_trans = np.transpose(images[i], (1, 2, 0))\n",
        "    mean = np.array([0.4914, 0.4822, 0.4465])\n",
        "    std = np.array([0.2023, 0.1994, 0.2010])\n",
        "    image_trans = std * image_trans + mean\n",
        "    image_trans = np.clip(image_trans, 0, 1)\n",
        "    plt.title(f\"{classes[labels[i]]}\")\n",
        "    plt.imshow(image_trans)\n",
        "    plt.axis(\"off\")\n",
        "plt.show()\n"
      ],
      "metadata": {
        "colab": {
          "base_uri": "https://localhost:8080/",
          "height": 441
        },
        "id": "DefHXvNETcyT",
        "outputId": "ee1dd3e8-0fe7-49ef-a19e-4db8fabd9335"
      },
      "execution_count": null,
      "outputs": [
        {
          "output_type": "stream",
          "name": "stdout",
          "text": [
            "Image shape: (256, 3, 32, 32), Label shape: (256,)\n",
            "Labels: [4 8 9 0 3 2]\n"
          ]
        },
        {
          "output_type": "display_data",
          "data": {
            "text/plain": [
              "<Figure size 640x480 with 6 Axes>"
            ],
            "image/png": "[encoded data removed]"
          },
          "metadata": {}
        }
      ]
    },
    {
      "cell_type": "markdown",
      "source": [
        "# Defining a Residual Block for ResNet  \n",
        "This cell defines the core building block of a ResNet model:  \n",
        "\n",
        "1. **Imports**  \n",
        "   - Import necessary types and MindSpore modules.  \n",
        "\n",
        "2. **Weight Initialization**  \n",
        "   - Initialize convolutional and batch norm layers using a normal distribution.  \n",
        "\n",
        "3. **ResidualBlockBase Class**  \n",
        "   - Defines two convolutional layers with batch normalization and ReLU activation.  \n",
        "   - Implements a shortcut connection (identity mapping).  \n",
        "   - Optionally includes downsampling to match dimensions when input and output sizes differ.  \n",
        "\n",
        "4. **Forward Pass (`construct` method)**  \n",
        "   - Pass input through two convolutional layers + batch norm + ReLU.  \n",
        "   - Add shortcut connection (with downsampling if needed).  \n",
        "   - Apply final ReLU activation to the sum of main and shortcut paths.  \n"
      ],
      "metadata": {
        "id": "35LjPml-w2Tr"
      }
    },
    {
      "cell_type": "code",
      "source": [
        "from typing import Type, Union, List, Optional\n",
        "import mindspore.nn as nn\n",
        "from mindspore.common.initializer import Normal\n",
        "\n",
        "weight_init = Normal(mean=0, sigma=0.02)\n",
        "gamma_init = Normal(mean=1, sigma=0.02)\n",
        "\n",
        "class ResidualBlockBase(nn.Cell):\n",
        "    expansion: int = 1\n",
        "\n",
        "    def __init__(self, in_channel: int, out_channel: int,\n",
        "                 stride: int = 1, norm: Optional[nn.Cell] = None,\n",
        "                 down_sample: Optional[nn.Cell] = None) -> None:\n",
        "        super(ResidualBlockBase, self).__init__()\n",
        "        if not norm:\n",
        "            self.norm = nn.BatchNorm2d(out_channel)\n",
        "        else:\n",
        "            self.norm = norm\n",
        "\n",
        "        self.conv1 = nn.Conv2d(in_channel, out_channel,\n",
        "                               kernel_size=3, stride=stride,\n",
        "                               weight_init=weight_init)\n",
        "        self.conv2 = nn.Conv2d(in_channel, out_channel,\n",
        "                               kernel_size=3, weight_init=weight_init)\n",
        "        self.relu = nn.ReLU()\n",
        "        self.down_sample = down_sample\n",
        "\n",
        "    def construct(self, x):\n",
        "        identity = x  # shortcut\n",
        "\n",
        "        out = self.conv1(x)  # First layer of the main body: 3 x 3 convolutional layer\n",
        "        out = self.norm(out)\n",
        "        out = self.relu(out)\n",
        "        out = self.conv2(out)  # Second layer of the main body: 3 x 3 convolutional layer\n",
        "        out = self.norm(out)\n",
        "\n",
        "        if self.down_sample is not None:\n",
        "            identity = self.down_sample(x)\n",
        "        out += identity  # output the sum of the main body and the shortcuts\n",
        "        out = self.relu(out)\n",
        "\n",
        "        return out\n"
      ],
      "metadata": {
        "id": "t4IZogEVTLvo"
      },
      "execution_count": null,
      "outputs": []
    },
    {
      "cell_type": "markdown",
      "source": [
        "#Implementation of Residual Block with Expansion in ResNet"
      ],
      "metadata": {
        "id": "Zd6hxiQzGxTA"
      }
    },
    {
      "cell_type": "code",
      "source": [
        "class ResidualBlock(nn.Cell):\n",
        "    expansion = 4  # The number of convolution kernels at the last layer is four times that of convolution kernels at the first layer.\n",
        "\n",
        "    def __init__(self, in_channel: int, out_channel: int,\n",
        "                 stride: int = 1, down_sample: Optional[nn.Cell] = None) -> None:\n",
        "        super(ResidualBlock, self).__init__()\n",
        "\n",
        "        self.conv1 = nn.Conv2d(in_channel, out_channel,\n",
        "                               kernel_size=1, weight_init=weight_init)\n",
        "        self.norm1 = nn.BatchNorm2d(out_channel)\n",
        "        self.conv2 = nn.Conv2d(out_channel, out_channel,\n",
        "                               kernel_size=3, stride=stride,\n",
        "                               weight_init=weight_init)\n",
        "        self.norm2 = nn.BatchNorm2d(out_channel)\n",
        "        self.conv3 = nn.Conv2d(out_channel, out_channel * self.expansion,\n",
        "                               kernel_size=1, weight_init=weight_init)\n",
        "        self.norm3 = nn.BatchNorm2d(out_channel * self.expansion)\n",
        "\n",
        "        self.relu = nn.ReLU()\n",
        "        self.down_sample = down_sample\n",
        "\n",
        "    def construct(self, x):\n",
        "\n",
        "        identity = x  # shortcut\n",
        "\n",
        "        out = self.conv1(x)  # First layer of the main body: 1 x 1 convolutional layer\n",
        "        out = self.norm1(out)\n",
        "        out = self.relu(out)\n",
        "        out = self.conv2(out)  # Second layer of the main body: 3 x 3 convolutional layer\n",
        "        out = self.norm2(out)\n",
        "        out = self.relu(out)\n",
        "        out = self.conv3(out)  # Third layer of the main body: 1 x 1 convolutional layer\n",
        "        out = self.norm3(out)\n",
        "\n",
        "        if self.down_sample is not None:\n",
        "            identity = self.down_sample(x)\n",
        "\n",
        "        out += identity  # The output is the sum of the main body and the shortcut.\n",
        "        out = self.relu(out)\n",
        "\n",
        "        return out\n"
      ],
      "metadata": {
        "id": "mlvrbsapUbfj"
      },
      "execution_count": null,
      "outputs": []
    },
    {
      "cell_type": "markdown",
      "source": [
        "# Creating a Layer of Residual Blocks  \n",
        "This cell defines a function to create a full layer of residual blocks:  \n",
        "\n",
        "1. **Function Parameters**  \n",
        "   - `last_out_channel` – Number of output channels from the previous layer.  \n",
        "   - `block` – Type of residual block (basic or bottleneck).  \n",
        "   - `channel` – Number of channels for the current layer.  \n",
        "   - `block_nums` – Number of residual blocks to stack.  \n",
        "   - `stride` – Stride for the first block in the layer (default = 1).  \n",
        "\n",
        "2. **Downsample (Shortcut Connection)**  \n",
        "   - If the stride is not 1 or the input/output channels don't match, a 1x1 convolution + batch norm is used to match dimensions.  \n",
        "\n",
        "3. **Create Layer**  \n",
        "   - First block includes downsampling (if needed).  \n",
        "   - Remaining blocks are stacked with matching input and output channels.  \n",
        "\n",
        "4. **Return Layer**  \n",
        "   - Combine all blocks into a `SequentialCell` for easy layer construction.  \n"
      ],
      "metadata": {
        "id": "dao757Zu76fZ"
      }
    },
    {
      "cell_type": "code",
      "source": [
        "def make_layer(last_out_channel, block: Type[Union[ResidualBlockBase, ResidualBlock]],\n",
        "               channel: int, block_nums: int, stride: int = 1):\n",
        "    down_sample = None  # shortcuts\n",
        "\n",
        "\n",
        "    if stride != 1 or last_out_channel != channel * block.expansion:\n",
        "\n",
        "        down_sample = nn.SequentialCell([\n",
        "            nn.Conv2d(last_out_channel, channel * block.expansion,\n",
        "                      kernel_size=1, stride=stride, weight_init=weight_init),\n",
        "            nn.BatchNorm2d(channel * block.expansion, gamma_init=gamma_init)\n",
        "        ])\n",
        "\n",
        "    layers = []\n",
        "    layers.append(block(last_out_channel, channel, stride=stride, down_sample=down_sample))\n",
        "\n",
        "    in_channel = channel * block.expansion\n",
        "    for _ in range(1, block_nums):\n",
        "\n",
        "        layers.append(block(in_channel, channel))\n",
        "\n",
        "    return nn.SequentialCell(layers)\n"
      ],
      "metadata": {
        "id": "mQ12klbkUd9Q"
      },
      "execution_count": null,
      "outputs": []
    },
    {
      "cell_type": "markdown",
      "source": [
        "#This cell defines the complete **ResNet architecture** using residual blocks:  \n"
      ],
      "metadata": {
        "id": "VKOmqPJS_B8V"
      }
    },
    {
      "cell_type": "code",
      "source": [
        "from mindspore import load_checkpoint, load_param_into_net\n",
        "\n",
        "\n",
        "class ResNet(nn.Cell):\n",
        "    def __init__(self, block: Type[Union[ResidualBlockBase, ResidualBlock]],\n",
        "                 layer_nums: List[int], num_classes: int, input_channel: int) -> None:\n",
        "        super(ResNet, self).__init__()\n",
        "\n",
        "        self.relu = nn.ReLU()\n",
        "        # At the first convolutional layer, the number of the input channels is 3 (color image) and that of the output channels is 64.\n",
        "        self.conv1 = nn.Conv2d(3, 64, kernel_size=7, stride=2, weight_init=weight_init)\n",
        "        self.norm = nn.BatchNorm2d(64)\n",
        "        # Maximum pooling layer, reducing the image size\n",
        "        self.max_pool = nn.MaxPool2d(kernel_size=3, stride=2, pad_mode='same')\n",
        "        # Define each residual network structure block\n",
        "        self.layer1 = make_layer(64, block, 64, layer_nums[0])\n",
        "        self.layer2 = make_layer(64 * block.expansion, block, 128, layer_nums[1], stride=2)\n",
        "        self.layer3 = make_layer(128 * block.expansion, block, 256, layer_nums[2], stride=2)\n",
        "        self.layer4 = make_layer(256 * block.expansion, block, 512, layer_nums[3], stride=2)\n",
        "        # average pooling layer\n",
        "        self.avg_pool = nn.AvgPool2d()\n",
        "        # flattern layer\n",
        "        self.flatten = nn.Flatten()\n",
        "        # fully-connected layer\n",
        "        self.fc = nn.Dense(in_channels=input_channel, out_channels=num_classes)\n",
        "\n",
        "    def construct(self, x):\n",
        "\n",
        "        x = self.conv1(x)\n",
        "        x = self.norm(x)\n",
        "        x = self.relu(x)\n",
        "        x = self.max_pool(x)\n",
        "\n",
        "        x = self.layer1(x)\n",
        "        x = self.layer2(x)\n",
        "        x = self.layer3(x)\n",
        "        x = self.layer4(x)\n",
        "\n",
        "        x = self.avg_pool(x)\n",
        "        x = self.flatten(x)\n",
        "        x = self.fc(x)\n",
        "\n",
        "        return x\n"
      ],
      "metadata": {
        "id": "UJiPyH99UhVs"
      },
      "execution_count": null,
      "outputs": []
    },
    {
      "cell_type": "markdown",
      "source": [
        "# Loading and Initializing ResNet Model  \n"
      ],
      "metadata": {
        "id": "xTA0V_zHBJSw"
      }
    },
    {
      "cell_type": "code",
      "source": [
        "def _resnet(model_url: str, block: Type[Union[ResidualBlockBase, ResidualBlock]],\n",
        "            layers: List[int], num_classes: int, pretrained: bool, pretrained_ckpt: str,\n",
        "            input_channel: int):\n",
        "    model = ResNet(block, layers, num_classes, input_channel)\n",
        "\n",
        "    if pretrained:\n",
        "        # load pre-trained models\n",
        "        download(url=model_url, path=pretrained_ckpt, replace=True)\n",
        "        param_dict = load_checkpoint(pretrained_ckpt)\n",
        "        load_param_into_net(model, param_dict)\n",
        "\n",
        "    return model\n",
        "\n",
        "\n",
        "def resnet50(num_classes: int = 1000, pretrained: bool = False):\n",
        "    \"\"\"ResNet50 model\"\"\"\n",
        "    resnet50_url = \"https://mindspore-website.obs.cn-north-4.myhuaweicloud.com/notebook/models/application/resnet50_224_new.ckpt\"\n",
        "    resnet50_ckpt = \"./LoadPretrainedModel/resnet50_224_new.ckpt\"\n",
        "    return _resnet(resnet50_url, ResidualBlock, [3, 4, 6, 3], num_classes,\n",
        "                   pretrained, resnet50_ckpt, 2048)\n"
      ],
      "metadata": {
        "id": "hd0IXcY4UjEU"
      },
      "execution_count": null,
      "outputs": []
    },
    {
      "cell_type": "markdown",
      "source": [
        "# Defining the ResNet50 network."
      ],
      "metadata": {
        "id": "T56uM0zhBqiu"
      }
    },
    {
      "cell_type": "code",
      "source": [
        "network = resnet50(pretrained=True)\n",
        "\n",
        "# Size of the input layer of the fully-connected layer\n",
        "in_channel = network.fc.in_channels\n",
        "fc = nn.Dense(in_channels=in_channel, out_channels=10)\n",
        "# Reset the fully-connected layer.\n",
        "network.fc = fc\n"
      ],
      "metadata": {
        "colab": {
          "base_uri": "https://localhost:8080/"
        },
        "id": "5WX5qhwIUksf",
        "outputId": "c62b42dd-a25c-4e28-929d-27adeedfc5ea"
      },
      "execution_count": null,
      "outputs": [
        {
          "output_type": "stream",
          "name": "stdout",
          "text": [
            "Downloading data from https://mindspore-website.obs.cn-north-4.myhuaweicloud.com/notebook/models/application/resnet50_224_new.ckpt (97.7 MB)\n",
            "\n",
            "file_sizes: 100%|████████████████████████████| 102M/102M [00:10<00:00, 9.86MB/s]\n",
            "Successfully downloaded file to ./LoadPretrainedModel/resnet50_224_new.ckpt\n"
          ]
        }
      ]
    },
    {
      "cell_type": "markdown",
      "source": [
        "## Defining the Training Setup\n",
        "\n",
        "This cell sets up the learning rate, optimizer, and training step for the ResNet model:\n",
        "\n",
        "1. **Learning Rate Schedule**\n",
        "\n",
        "2. **Optimizer**\n",
        "\n",
        "3. **Loss Function**\n",
        "\n",
        "4. **Forward Function**\n"
      ],
      "metadata": {
        "id": "Rg6_mwXoDSpL"
      }
    },
    {
      "cell_type": "code",
      "source": [
        "# Set the learning rate\n",
        "num_epochs = 5\n",
        "lr = nn.cosine_decay_lr(min_lr=0.00001, max_lr=0.001, total_step=step_size_train * num_epochs,\n",
        "                        step_per_epoch=step_size_train, decay_epoch=num_epochs)\n",
        "# Define optimizer and loss function\n",
        "opt = nn.Momentum(params=network.trainable_params(), learning_rate=lr, momentum=0.9)\n",
        "loss_fn = nn.SoftmaxCrossEntropyWithLogits(sparse=True, reduction='mean')\n",
        "\n",
        "def forward_fn(inputs, targets):\n",
        "    logits = network(inputs)\n",
        "    loss = loss_fn(logits, targets)\n",
        "    return loss\n",
        "\n",
        "grad_fn = ms.value_and_grad(forward_fn, None, opt.parameters)\n",
        "def train_step(inputs, targets):\n",
        "    loss, grads = grad_fn(inputs, targets)\n",
        "    opt(grads)\n",
        "    return loss\n"
      ],
      "metadata": {
        "id": "pYW6i2zRUmVp"
      },
      "execution_count": null,
      "outputs": []
    },
    {
      "cell_type": "markdown",
      "source": [
        "#Setting Up Training and Validation Data\n",
        "\n",
        "This cell sets up data loaders, checkpoint handling, and training state tracking:\n",
        "\n",
        "1. **Data Loaders**\n",
        "\n",
        "   - `data_loader_train` – Creates an iterator for the training dataset for `num_epochs`.\n",
        "   - `data_loader_val` – Creates an iterator for the validation dataset for `num_epochs`.\n",
        "\n",
        "2. **Best Accuracy Tracking**\n",
        "\n",
        "3. **Checkpoint Directory**\n",
        "\n",
        "   - `best_ckpt_dir` – Directory to store the best model checkpoint.\n",
        "   - `best_ckpt_path` – Path for saving the best model weights.\n",
        "\n",
        "4. **Directory Creation**\n"
      ],
      "metadata": {
        "id": "PiV1UrCeEOAV"
      }
    },
    {
      "cell_type": "code",
      "source": [
        "import os\n",
        "\n",
        "data_loader_train = dataset_train.create_tuple_iterator(num_epochs=num_epochs)\n",
        "data_loader_val = dataset_val.create_tuple_iterator(num_epochs=num_epochs)\n",
        "\n",
        "best_acc = 0\n",
        "best_ckpt_dir = \"./BestCheckpoint\"\n",
        "best_ckpt_path = \"./BestCheckpoint/resnet50-best.ckpt\"\n",
        "\n",
        "if not os.path.exists(best_ckpt_dir):\n",
        "    os.mkdir(best_ckpt_dir)\n"
      ],
      "metadata": {
        "id": "IMgPqaTMU29r"
      },
      "execution_count": null,
      "outputs": []
    },
    {
      "cell_type": "markdown",
      "source": [
        "#Training and Evaluation Functions  \n"
      ],
      "metadata": {
        "id": "VfXpdQ15EuUd"
      }
    },
    {
      "cell_type": "code",
      "source": [
        "import mindspore.ops as ops\n",
        "\n",
        "\n",
        "def train(data_loader, epoch):\n",
        "    losses = []\n",
        "    network.set_train(True)\n",
        "\n",
        "    for i, (images, labels) in enumerate(data_loader):\n",
        "        loss = train_step(images, labels)\n",
        "        if i % 100 == 0 or i == step_size_train - 1:\n",
        "            print('Epoch: [%3d/%3d], Steps: [%3d/%3d], Train Loss: [%5.3f]' %\n",
        "                  (epoch + 1, num_epochs, i + 1, step_size_train, loss))\n",
        "        losses.append(loss)\n",
        "\n",
        "    return sum(losses) / len(losses)\n",
        "\n",
        "\n",
        "def evaluate(data_loader):\n",
        "    network.set_train(False)\n",
        "\n",
        "    correct_num = 0.0  # Number of correct predictions\n",
        "    total_num = 0.0  # Total number of predictions\n",
        "\n",
        "    for images, labels in data_loader:\n",
        "        logits = network(images)\n",
        "        pred = logits.argmax(axis=1)  # Prediction results\n",
        "        correct = ops.equal(pred, labels).reshape((-1, ))\n",
        "        correct_num += correct.sum().asnumpy()\n",
        "        total_num += correct.shape[0]\n",
        "\n",
        "    acc = correct_num / total_num  # Accuracy\n",
        "\n",
        "    return acc\n"
      ],
      "metadata": {
        "id": "I5x9xpceU4rB"
      },
      "execution_count": null,
      "outputs": []
    },
    {
      "cell_type": "markdown",
      "source": [
        "#Training loop"
      ],
      "metadata": {
        "id": "Vub30zqGE5vP"
      }
    },
    {
      "cell_type": "code",
      "source": [
        "print(\"Starting Training ...\")\n",
        "\n",
        "for epoch in range(num_epochs):\n",
        "    curr_loss = train(data_loader_train, epoch)\n",
        "    curr_acc = evaluate(data_loader_val)\n",
        "\n",
        "    print(\"-\" * 50)\n",
        "    print(\"Epoch: [%3d/%3d], Average Train Loss: [%5.3f], Accuracy: [%5.3f]\" % (\n",
        "        epoch+1, num_epochs, curr_loss, curr_acc\n",
        "    ))\n",
        "    print(\"-\" * 50)\n",
        "\n",
        "    # Save the model that has achieved the highest prediction accuracy\n",
        "    if curr_acc > best_acc:\n",
        "        best_acc = curr_acc\n",
        "        ms.save_checkpoint(network, best_ckpt_path)\n",
        "\n",
        "print(\"=\" * 80)\n",
        "print(f\"End of validation the best Accuracy is: {best_acc: 5.3f}, \"\n",
        "      f\"save the best ckpt file in {best_ckpt_path}\", flush=True)\n"
      ],
      "metadata": {
        "colab": {
          "base_uri": "https://localhost:8080/"
        },
        "id": "7ytPh39XU6D_",
        "outputId": "030ec377-4a00-4125-c88b-4d26d6b1e67c"
      },
      "execution_count": null,
      "outputs": [
        {
          "output_type": "stream",
          "name": "stdout",
          "text": [
            "Start Training Loop ...\n",
            "Epoch: [  1/  5], Steps: [  1/196], Train Loss: [2.374]\n",
            "Epoch: [  1/  5], Steps: [101/196], Train Loss: [1.453]\n",
            "Epoch: [  1/  5], Steps: [196/196], Train Loss: [1.238]\n",
            "--------------------------------------------------\n",
            "Epoch: [  1/  5], Average Train Loss: [1.628], Accuracy: [0.604]\n",
            "--------------------------------------------------\n",
            "Epoch: [  2/  5], Steps: [  1/196], Train Loss: [1.107]\n",
            "Epoch: [  2/  5], Steps: [101/196], Train Loss: [0.957]\n",
            "Epoch: [  2/  5], Steps: [196/196], Train Loss: [1.067]\n",
            "--------------------------------------------------\n",
            "Epoch: [  2/  5], Average Train Loss: [1.011], Accuracy: [0.688]\n",
            "--------------------------------------------------\n",
            "Epoch: [  3/  5], Steps: [  1/196], Train Loss: [0.842]\n",
            "Epoch: [  3/  5], Steps: [101/196], Train Loss: [1.004]\n",
            "Epoch: [  3/  5], Steps: [196/196], Train Loss: [0.661]\n",
            "--------------------------------------------------\n",
            "Epoch: [  3/  5], Average Train Loss: [0.849], Accuracy: [0.719]\n",
            "--------------------------------------------------\n",
            "Epoch: [  4/  5], Steps: [  1/196], Train Loss: [0.849]\n",
            "Epoch: [  4/  5], Steps: [101/196], Train Loss: [0.764]\n",
            "Epoch: [  4/  5], Steps: [196/196], Train Loss: [0.808]\n",
            "--------------------------------------------------\n",
            "Epoch: [  4/  5], Average Train Loss: [0.772], Accuracy: [0.735]\n",
            "--------------------------------------------------\n",
            "Epoch: [  5/  5], Steps: [  1/196], Train Loss: [0.702]\n",
            "Epoch: [  5/  5], Steps: [101/196], Train Loss: [0.750]\n",
            "Epoch: [  5/  5], Steps: [196/196], Train Loss: [0.811]\n",
            "--------------------------------------------------\n",
            "Epoch: [  5/  5], Average Train Loss: [0.739], Accuracy: [0.739]\n",
            "--------------------------------------------------\n",
            "================================================================================\n",
            "End of validation the best Accuracy is:  0.739, save the best ckpt file in ./BestCheckpoint/resnet50-best.ckpt\n"
          ]
        }
      ]
    },
    {
      "cell_type": "markdown",
      "source": [
        "#Model Evaluation and Performance Analysis  \n",
        "1. **Load Best Checkpoint**  \n",
        "   - Loads the best model parameters from `resnet50-best.ckpt`.  \n",
        "\n",
        "2. **Evaluate Model**  \n",
        "   - Computes and prints test accuracy.  \n",
        "\n",
        "3. **Plot Training vs. Validation Loss**  \n",
        "   - Plots loss curves (if available) using `matplotlib`.  \n",
        "\n",
        "4. **Generate Confusion Matrix**  \n",
        "   - Computes and plots the confusion matrix using `seaborn`.  \n"
      ],
      "metadata": {
        "id": "rUr3BCmXFMWP"
      }
    },
    {
      "cell_type": "code",
      "source": [
        "import mindspore as ms\n",
        "import matplotlib.pyplot as plt\n",
        "from sklearn.metrics import confusion_matrix\n",
        "import seaborn as sns\n",
        "import numpy as np\n",
        "# Load the best checkpoint and pre-trained model\n",
        "best_ckpt_path = \"./BestCheckpoint/resnet50-best.ckpt\"  # Update with your path\n",
        "param_dict = ms.load_checkpoint(best_ckpt_path)\n",
        "ms.load_param_into_net(network, param_dict)\n",
        "\n",
        "# Evaluate the model on the test set\n",
        "test_acc = evaluate(dataset_val)\n",
        "print(f\"Test Accuracy: {test_acc: 5.3f}\")\n",
        "\n",
        "# Plotting training loss vs. validation loss (if available)\n",
        "if 'train_losses' in locals() and 'val_losses' in locals():\n",
        "    plt.plot(train_losses, label=\"Training Loss\")\n",
        "    plt.plot(val_losses, label=\"Validation Loss\")\n",
        "    plt.xlabel(\"Epoch\")\n",
        "    plt.ylabel(\"Loss\")\n",
        "    plt.legend()\n",
        "    plt.show()\n",
        "else:\n",
        "    print(\"Training and validation losses not available.\")\n",
        "\n",
        "# Generate confusion matrix\n",
        "all_preds = []\n",
        "all_labels = []\n",
        "for images, labels in dataset_val.create_tuple_iterator():\n",
        "    logits = network(images)\n",
        "    pred = logits.argmax(axis=1)\n",
        "    all_preds.extend(pred.asnumpy())\n",
        "    all_labels.extend(labels.asnumpy())\n",
        "\n",
        "cm = confusion_matrix(all_labels, all_preds)\n",
        "\n",
        "# Plot the confusion matrix using Seaborn\n",
        "plt.figure(figsize=(10, 10))\n",
        "sns.heatmap(cm, annot=True, fmt=\"d\", cmap=\"Blues\", cbar=False,\n",
        "            xticklabels=classes, yticklabels=classes)  # Assuming 'classes' is defined\n",
        "plt.xlabel(\"Predicted Label\")\n",
        "plt.ylabel(\"True Label\")\n",
        "plt.title(\"Confusion Matrix\")\n",
        "plt.show()"
      ],
      "metadata": {
        "colab": {
          "base_uri": "https://localhost:8080/",
          "height": 839
        },
        "id": "0VFmKj6wU_EJ",
        "outputId": "432764c9-425c-4d6b-b49a-bdcc730820cf"
      },
      "execution_count": null,
      "outputs": [
        {
          "output_type": "stream",
          "name": "stdout",
          "text": [
            "Test Accuracy:  0.739\n",
            "Training and validation losses not available.\n"
          ]
        },
        {
          "output_type": "display_data",
          "data": {
            "text/plain": [
              "<Figure size 1000x1000 with 1 Axes>"
            ],
            "image/png": "[encoded data removed]"
          },
          "metadata": {}
        }
      ]
    },
    {
      "cell_type": "markdown",
      "source": [
        "# Making Predictions"
      ],
      "metadata": {
        "id": "LehjMW9mFP2a"
      }
    },
    {
      "cell_type": "code",
      "source": [
        "import matplotlib.pyplot as plt\n",
        "\n",
        "\n",
        "def visualize_model(best_ckpt_path, dataset_val):\n",
        "    num_class = 10\n",
        "    net = resnet50(num_class)\n",
        "    # Load model parameters.\n",
        "    param_dict = ms.load_checkpoint(best_ckpt_path)\n",
        "    ms.load_param_into_net(net, param_dict)\n",
        "    # Load the validation dataset.\n",
        "    data = next(dataset_val.create_dict_iterator())\n",
        "    images = data[\"image\"]\n",
        "    labels = data[\"label\"]\n",
        "    # Predict the image type.\n",
        "    output = net(data['image'])\n",
        "    pred = np.argmax(output.asnumpy(), axis=1)\n",
        "\n",
        "    # Image classification\n",
        "    classes = []\n",
        "\n",
        "    with open(data_dir + \"/batches.meta.txt\", \"r\") as f:\n",
        "        for line in f:\n",
        "            line = line.rstrip()\n",
        "            if line:\n",
        "                classes.append(line)\n",
        "\n",
        "    # Show the picture along with its corresponding predicted value.\n",
        "    plt.figure()\n",
        "    for i in range(6):\n",
        "        plt.subplot(2, 3, i + 1)\n",
        "        # If the prediction is correct, it will appear in blue; otherwise, it will show up in red.\n",
        "        color = 'blue' if pred[i] == labels.asnumpy()[i] else 'red'\n",
        "        plt.title('predict:{}'.format(classes[pred[i]]), color=color)\n",
        "        picture_show = np.transpose(images.asnumpy()[i], (1, 2, 0))\n",
        "        mean = np.array([0.4914, 0.4822, 0.4465])\n",
        "        std = np.array([0.2023, 0.1994, 0.2010])\n",
        "        picture_show = std * picture_show + mean\n",
        "        picture_show = np.clip(picture_show, 0, 1)\n",
        "        plt.imshow(picture_show)\n",
        "        plt.axis('off')\n",
        "\n",
        "    plt.show()\n",
        "\n",
        "\n",
        "# Validate with test dataset\n",
        "visualize_model(best_ckpt_path=best_ckpt_path, dataset_val=dataset_val)\n"
      ],
      "metadata": {
        "colab": {
          "base_uri": "https://localhost:8080/",
          "height": 406
        },
        "id": "um5LMfiyU7-B",
        "outputId": "32b1ac7f-5870-488a-fdcf-5d0d4c55492c"
      },
      "execution_count": null,
      "outputs": [
        {
          "output_type": "display_data",
          "data": {
            "text/plain": [
              "<Figure size 640x480 with 6 Axes>"
            ],
            "image/png": "[encoded data removed]"
          },
          "metadata": {}
        }
      ]
    },
    {
      "cell_type": "code",
      "source": [],
      "metadata": {
        "id": "9kYZZVmfUndM"
      },
      "execution_count": null,
      "outputs": []
    }
  ]
}